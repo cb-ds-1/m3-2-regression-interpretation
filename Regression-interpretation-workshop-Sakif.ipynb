{
 "cells": [
  {
   "cell_type": "markdown",
   "metadata": {},
   "source": [
    "# 1. Regressive Tennis T-Test\n",
    "\n",
    "Use a linear regression and statsmodels to run a t-test on whether Federer scores more points than his opponents in the `tennis.csv` dataset.\n",
    "\n",
    "Give a one-paragraph interpretation of the coefficient, and the meaning of the p-value. \n",
    "\n",
    "Also answer the following: should your regression include a constant term? Why or why not? How would it change the interpretation of your coefficient and p-value?"
   ]
  },
  {
   "cell_type": "code",
   "execution_count": 63,
   "metadata": {},
   "outputs": [],
   "source": [
    "import statsmodels.api as sm\n",
    "import pandas as pd\n",
    "import seaborn as sns\n",
    "import matplotlib.pyplot as plt\n",
    "\n",
    "df = pd.read_csv(\"data/tennis.csv\")\n",
    "\n",
    "points_df = df[['player1 total points won', 'player2 total points won']]\n",
    "\n",
    "#Drop nans (Dropping missing values gives lower AIC and BIC values compared to filling the missing values with the mean)\n",
    "points_df = points_df.dropna()"
   ]
  },
  {
   "cell_type": "code",
   "execution_count": 64,
   "metadata": {},
   "outputs": [
    {
     "data": {
      "text/html": [
       "<table class=\"simpletable\">\n",
       "<caption>OLS Regression Results</caption>\n",
       "<tr>\n",
       "  <th>Dep. Variable:</th>    <td>player2 total points won</td> <th>  R-squared (uncentered):</th>      <td>   0.969</td> \n",
       "</tr>\n",
       "<tr>\n",
       "  <th>Model:</th>                       <td>OLS</td>           <th>  Adj. R-squared (uncentered):</th> <td>   0.969</td> \n",
       "</tr>\n",
       "<tr>\n",
       "  <th>Method:</th>                 <td>Least Squares</td>      <th>  F-statistic:       </th>          <td>3.196e+04</td>\n",
       "</tr>\n",
       "<tr>\n",
       "  <th>Date:</th>                 <td>Mon, 18 Jan 2021</td>     <th>  Prob (F-statistic):</th>           <td>  0.00</td>  \n",
       "</tr>\n",
       "<tr>\n",
       "  <th>Time:</th>                     <td>16:53:09</td>         <th>  Log-Likelihood:    </th>          <td> -4173.8</td> \n",
       "</tr>\n",
       "<tr>\n",
       "  <th>No. Observations:</th>          <td>  1027</td>          <th>  AIC:               </th>          <td>   8350.</td> \n",
       "</tr>\n",
       "<tr>\n",
       "  <th>Df Residuals:</th>              <td>  1026</td>          <th>  BIC:               </th>          <td>   8355.</td> \n",
       "</tr>\n",
       "<tr>\n",
       "  <th>Df Model:</th>                  <td>     1</td>          <th>                     </th>              <td> </td>    \n",
       "</tr>\n",
       "<tr>\n",
       "  <th>Covariance Type:</th>          <td>nonrobust</td>        <th>                     </th>              <td> </td>    \n",
       "</tr>\n",
       "</table>\n",
       "<table class=\"simpletable\">\n",
       "<tr>\n",
       "              <td></td>                <th>coef</th>     <th>std err</th>      <th>t</th>      <th>P>|t|</th>  <th>[0.025</th>    <th>0.975]</th>  \n",
       "</tr>\n",
       "<tr>\n",
       "  <th>player1 total points won</th> <td>    0.8618</td> <td>    0.005</td> <td>  178.783</td> <td> 0.000</td> <td>    0.852</td> <td>    0.871</td>\n",
       "</tr>\n",
       "</table>\n",
       "<table class=\"simpletable\">\n",
       "<tr>\n",
       "  <th>Omnibus:</th>       <td>70.330</td> <th>  Durbin-Watson:     </th> <td>   1.760</td>\n",
       "</tr>\n",
       "<tr>\n",
       "  <th>Prob(Omnibus):</th> <td> 0.000</td> <th>  Jarque-Bera (JB):  </th> <td>  83.878</td>\n",
       "</tr>\n",
       "<tr>\n",
       "  <th>Skew:</th>          <td> 0.698</td> <th>  Prob(JB):          </th> <td>6.11e-19</td>\n",
       "</tr>\n",
       "<tr>\n",
       "  <th>Kurtosis:</th>      <td> 3.093</td> <th>  Cond. No.          </th> <td>    1.00</td>\n",
       "</tr>\n",
       "</table><br/><br/>Warnings:<br/>[1] Standard Errors assume that the covariance matrix of the errors is correctly specified."
      ],
      "text/plain": [
       "<class 'statsmodels.iolib.summary.Summary'>\n",
       "\"\"\"\n",
       "                                    OLS Regression Results                                   \n",
       "=============================================================================================\n",
       "Dep. Variable:     player2 total points won   R-squared (uncentered):                   0.969\n",
       "Model:                                  OLS   Adj. R-squared (uncentered):              0.969\n",
       "Method:                       Least Squares   F-statistic:                          3.196e+04\n",
       "Date:                      Mon, 18 Jan 2021   Prob (F-statistic):                        0.00\n",
       "Time:                              16:53:09   Log-Likelihood:                         -4173.8\n",
       "No. Observations:                      1027   AIC:                                      8350.\n",
       "Df Residuals:                          1026   BIC:                                      8355.\n",
       "Df Model:                                 1                                                  \n",
       "Covariance Type:                  nonrobust                                                  \n",
       "============================================================================================\n",
       "                               coef    std err          t      P>|t|      [0.025      0.975]\n",
       "--------------------------------------------------------------------------------------------\n",
       "player1 total points won     0.8618      0.005    178.783      0.000       0.852       0.871\n",
       "==============================================================================\n",
       "Omnibus:                       70.330   Durbin-Watson:                   1.760\n",
       "Prob(Omnibus):                  0.000   Jarque-Bera (JB):               83.878\n",
       "Skew:                           0.698   Prob(JB):                     6.11e-19\n",
       "Kurtosis:                       3.093   Cond. No.                         1.00\n",
       "==============================================================================\n",
       "\n",
       "Warnings:\n",
       "[1] Standard Errors assume that the covariance matrix of the errors is correctly specified.\n",
       "\"\"\""
      ]
     },
     "execution_count": 64,
     "metadata": {},
     "output_type": "execute_result"
    }
   ],
   "source": [
    "x = points_df['player1 total points won']\n",
    "y = points_df['player2 total points won']\n",
    "est = sm.OLS(y, x).fit()\n",
    "est.summary()"
   ]
  },
  {
   "cell_type": "code",
   "execution_count": 66,
   "metadata": {},
   "outputs": [
    {
     "data": {
      "text/plain": [
       "[<matplotlib.lines.Line2D at 0x2bc632db970>]"
      ]
     },
     "execution_count": 66,
     "metadata": {},
     "output_type": "execute_result"
    },
    {
     "data": {
      "image/png": "[encoded data removed]",
      "text/plain": [
       "<Figure size 432x288 with 1 Axes>"
      ]
     },
     "metadata": {
      "needs_background": "light"
     },
     "output_type": "display_data"
    }
   ],
   "source": [
    "x = points_df['player1 total points won']\n",
    "# x = sm.add_constant(x)\n",
    "est = sm.OLS(y, x).fit()\n",
    "yfit = est.predict(x)\n",
    "fig, ax = plt.subplots()\n",
    "ax.scatter(points_df['player1 total points won'], y)\n",
    "ax.plot(points_df['player1 total points won'], yfit, 'black')"
   ]
  },
  {
   "cell_type": "markdown",
   "metadata": {},
   "source": [
    "Given that the p-value is less than 0.05, it can be said that for every point scored by Federer, his opponents score 0.8618 (as per the coeff).\n",
    "\n",
    "In regression, the constant term is the value at which the fitted line crosses the y-axis. As shown in the figure above, the value of y at the y-intercept is negative - which suggests that if Federer scores 0 points, his opponent will have a negative score. Based on this, there is no need to utilize a constant term for this example as first of all it is extremely unlikely for someone to have 0 points in a tennis match and impossible for someone to have negative points in a tennis match. "
   ]
  },
  {
   "cell_type": "markdown",
   "metadata": {},
   "source": [
    "# 2. College admissions\n",
    "\n",
    "Using the `college.csv` dataset, answer the following:\n",
    "\n",
    "1. Is the relation between `Top10perc` and `Top25perc` best fit using a model with only one variable, or one variable and a polynomial of degree 2? Is a constant term useful? How would you select for the best of these model specifications?\n",
    "\n",
    "2. Do private schools see more admissions overall? T-test this using a linear regression. Hint: use a binary explanatory variable for `Private`. Explain your model specification choices.\n"
   ]
  },
  {
   "cell_type": "code",
   "execution_count": 3,
   "metadata": {},
   "outputs": [
    {
     "data": {
      "text/plain": [
       "<matplotlib.axes._subplots.AxesSubplot at 0x2bc61a69430>"
      ]
     },
     "execution_count": 3,
     "metadata": {},
     "output_type": "execute_result"
    },
    {
     "data": {
      "image/png": "[encoded data removed]",
      "text/plain": [
       "<Figure size 432x288 with 1 Axes>"
      ]
     },
     "metadata": {
      "needs_background": "light"
     },
     "output_type": "display_data"
    }
   ],
   "source": [
    "df = pd.read_csv('data/college.csv')\n",
    "sns.regplot(x=\"Top25perc\", y=\"Top10perc\", data=df, order=2,\n",
    "            line_kws={\"color\": \"orange\"})"
   ]
  },
  {
   "cell_type": "code",
   "execution_count": 4,
   "metadata": {},
   "outputs": [],
   "source": [
    "df['Top25perc2'] = df['Top25perc'] ** 2\n",
    "df['Top10perc2'] = df['Top10perc'] ** 2"
   ]
  },
  {
   "cell_type": "code",
   "execution_count": 14,
   "metadata": {},
   "outputs": [
    {
     "data": {
      "text/plain": [
       "<matplotlib.axes._subplots.AxesSubplot at 0x2bc61d929d0>"
      ]
     },
     "execution_count": 14,
     "metadata": {},
     "output_type": "execute_result"
    },
    {
     "data": {
      "image/png": "[encoded data removed]",
      "text/plain": [
       "<Figure size 432x288 with 1 Axes>"
      ]
     },
     "metadata": {
      "needs_background": "light"
     },
     "output_type": "display_data"
    }
   ],
   "source": [
    "#Try again with polynomial fit\n",
    "sns.regplot(x=\"Top25perc2\", y=\"Top10perc\", data=df, order=2,\n",
    "            line_kws={\"color\": \"orange\"})"
   ]
  },
  {
   "cell_type": "markdown",
   "metadata": {},
   "source": [
    "As it can be seen, having a polynomial degree of 2 for x gives a better fit "
   ]
  },
  {
   "cell_type": "code",
   "execution_count": 24,
   "metadata": {
    "scrolled": false
   },
   "outputs": [
    {
     "data": {
      "text/html": [
       "<table class=\"simpletable\">\n",
       "<caption>OLS Regression Results</caption>\n",
       "<tr>\n",
       "  <th>Dep. Variable:</th>         <td>Enroll</td>      <th>  R-squared (uncentered):</th>      <td>   0.103</td> \n",
       "</tr>\n",
       "<tr>\n",
       "  <th>Model:</th>                   <td>OLS</td>       <th>  Adj. R-squared (uncentered):</th> <td>   0.102</td> \n",
       "</tr>\n",
       "<tr>\n",
       "  <th>Method:</th>             <td>Least Squares</td>  <th>  F-statistic:       </th>          <td>   89.34</td> \n",
       "</tr>\n",
       "<tr>\n",
       "  <th>Date:</th>             <td>Sat, 16 Jan 2021</td> <th>  Prob (F-statistic):</th>          <td>3.83e-20</td> \n",
       "</tr>\n",
       "<tr>\n",
       "  <th>Time:</th>                 <td>13:36:45</td>     <th>  Log-Likelihood:    </th>          <td> -6577.3</td> \n",
       "</tr>\n",
       "<tr>\n",
       "  <th>No. Observations:</th>      <td>   777</td>      <th>  AIC:               </th>          <td>1.316e+04</td>\n",
       "</tr>\n",
       "<tr>\n",
       "  <th>Df Residuals:</th>          <td>   776</td>      <th>  BIC:               </th>          <td>1.316e+04</td>\n",
       "</tr>\n",
       "<tr>\n",
       "  <th>Df Model:</th>              <td>     1</td>      <th>                     </th>              <td> </td>    \n",
       "</tr>\n",
       "<tr>\n",
       "  <th>Covariance Type:</th>      <td>nonrobust</td>    <th>                     </th>              <td> </td>    \n",
       "</tr>\n",
       "</table>\n",
       "<table class=\"simpletable\">\n",
       "<tr>\n",
       "     <td></td>        <th>coef</th>     <th>std err</th>      <th>t</th>      <th>P>|t|</th>  <th>[0.025</th>    <th>0.975]</th>  \n",
       "</tr>\n",
       "<tr>\n",
       "  <th>Private</th> <td>  456.9451</td> <td>   48.344</td> <td>    9.452</td> <td> 0.000</td> <td>  362.045</td> <td>  551.846</td>\n",
       "</tr>\n",
       "</table>\n",
       "<table class=\"simpletable\">\n",
       "<tr>\n",
       "  <th>Omnibus:</th>       <td>394.474</td> <th>  Durbin-Watson:     </th> <td>   1.272</td>\n",
       "</tr>\n",
       "<tr>\n",
       "  <th>Prob(Omnibus):</th> <td> 0.000</td>  <th>  Jarque-Bera (JB):  </th> <td>2089.188</td>\n",
       "</tr>\n",
       "<tr>\n",
       "  <th>Skew:</th>          <td> 2.344</td>  <th>  Prob(JB):          </th> <td>    0.00</td>\n",
       "</tr>\n",
       "<tr>\n",
       "  <th>Kurtosis:</th>      <td> 9.523</td>  <th>  Cond. No.          </th> <td>    1.00</td>\n",
       "</tr>\n",
       "</table><br/><br/>Warnings:<br/>[1] Standard Errors assume that the covariance matrix of the errors is correctly specified."
      ],
      "text/plain": [
       "<class 'statsmodels.iolib.summary.Summary'>\n",
       "\"\"\"\n",
       "                                 OLS Regression Results                                \n",
       "=======================================================================================\n",
       "Dep. Variable:                 Enroll   R-squared (uncentered):                   0.103\n",
       "Model:                            OLS   Adj. R-squared (uncentered):              0.102\n",
       "Method:                 Least Squares   F-statistic:                              89.34\n",
       "Date:                Sat, 16 Jan 2021   Prob (F-statistic):                    3.83e-20\n",
       "Time:                        13:36:45   Log-Likelihood:                         -6577.3\n",
       "No. Observations:                 777   AIC:                                  1.316e+04\n",
       "Df Residuals:                     776   BIC:                                  1.316e+04\n",
       "Df Model:                           1                                                  \n",
       "Covariance Type:            nonrobust                                                  \n",
       "==============================================================================\n",
       "                 coef    std err          t      P>|t|      [0.025      0.975]\n",
       "------------------------------------------------------------------------------\n",
       "Private      456.9451     48.344      9.452      0.000     362.045     551.846\n",
       "==============================================================================\n",
       "Omnibus:                      394.474   Durbin-Watson:                   1.272\n",
       "Prob(Omnibus):                  0.000   Jarque-Bera (JB):             2089.188\n",
       "Skew:                           2.344   Prob(JB):                         0.00\n",
       "Kurtosis:                       9.523   Cond. No.                         1.00\n",
       "==============================================================================\n",
       "\n",
       "Warnings:\n",
       "[1] Standard Errors assume that the covariance matrix of the errors is correctly specified.\n",
       "\"\"\""
      ]
     },
     "execution_count": 24,
     "metadata": {},
     "output_type": "execute_result"
    }
   ],
   "source": [
    "#Do private schools see more admissions overall?\n",
    "\n",
    "df['Private'] = df['Private'].replace(\"Yes\", 1).replace(\"No\", 0)\n",
    "X = df['Private']\n",
    "y = df['Enroll']\n",
    "est = sm.OLS(y, X).fit()\n",
    "est.summary()\n",
    "#Can be seen that private schools enroll 456.9 more enrollments with a std error of +-48.3"
   ]
  },
  {
   "cell_type": "markdown",
   "metadata": {},
   "source": [
    "# 3. Auto prediction\n",
    "\n",
    "Using the `auto.csv` dataset, perform a simple linear regression with `mpg` as the response variable and horsepower as the predictor. Answer the following:\n",
    "\n",
    " i. Is there a relationship between the predictor and the response?\n",
    " \n",
    " ii. How strong is the relationship between the predictor and the response?\n",
    " \n",
    " iii. Is the relationship between the predictor and the response positive or negative?\n",
    "\n",
    " iv. What is the predicted mpg associated with a horsepower of 98? What are the associated 95 % confidence and prediction intervals ?\n",
    "\n",
    " v. Make a regression plot the response and the predictor."
   ]
  },
  {
   "cell_type": "code",
   "execution_count": 56,
   "metadata": {},
   "outputs": [],
   "source": [
    "import numpy as np\n",
    "df = pd.read_csv('data/auto.csv', delim_whitespace=True)\n",
    "df = df.drop(df.index[0]) #remove first row that has NaNs only\n",
    "df['horsepower'] = df['horsepower'].replace(\"?\", 0).astype(\"float\")\n",
    "df['mpg'] = df['mpg'].astype(\"float\")"
   ]
  },
  {
   "cell_type": "code",
   "execution_count": 57,
   "metadata": {},
   "outputs": [
    {
     "data": {
      "text/html": [
       "<table class=\"simpletable\">\n",
       "<caption>OLS Regression Results</caption>\n",
       "<tr>\n",
       "  <th>Dep. Variable:</th>           <td>mpg</td>       <th>  R-squared (uncentered):</th>      <td>   0.637</td>\n",
       "</tr>\n",
       "<tr>\n",
       "  <th>Model:</th>                   <td>OLS</td>       <th>  Adj. R-squared (uncentered):</th> <td>   0.636</td>\n",
       "</tr>\n",
       "<tr>\n",
       "  <th>Method:</th>             <td>Least Squares</td>  <th>  F-statistic:       </th>          <td>   695.7</td>\n",
       "</tr>\n",
       "<tr>\n",
       "  <th>Date:</th>             <td>Mon, 18 Jan 2021</td> <th>  Prob (F-statistic):</th>          <td>3.14e-89</td>\n",
       "</tr>\n",
       "<tr>\n",
       "  <th>Time:</th>                 <td>16:51:13</td>     <th>  Log-Likelihood:    </th>          <td> -1636.4</td>\n",
       "</tr>\n",
       "<tr>\n",
       "  <th>No. Observations:</th>      <td>   397</td>      <th>  AIC:               </th>          <td>   3275.</td>\n",
       "</tr>\n",
       "<tr>\n",
       "  <th>Df Residuals:</th>          <td>   396</td>      <th>  BIC:               </th>          <td>   3279.</td>\n",
       "</tr>\n",
       "<tr>\n",
       "  <th>Df Model:</th>              <td>     1</td>      <th>                     </th>              <td> </td>   \n",
       "</tr>\n",
       "<tr>\n",
       "  <th>Covariance Type:</th>      <td>nonrobust</td>    <th>                     </th>              <td> </td>   \n",
       "</tr>\n",
       "</table>\n",
       "<table class=\"simpletable\">\n",
       "<tr>\n",
       "       <td></td>         <th>coef</th>     <th>std err</th>      <th>t</th>      <th>P>|t|</th>  <th>[0.025</th>    <th>0.975]</th>  \n",
       "</tr>\n",
       "<tr>\n",
       "  <th>horsepower</th> <td>    0.1788</td> <td>    0.007</td> <td>   26.377</td> <td> 0.000</td> <td>    0.166</td> <td>    0.192</td>\n",
       "</tr>\n",
       "</table>\n",
       "<table class=\"simpletable\">\n",
       "<tr>\n",
       "  <th>Omnibus:</th>       <td>11.258</td> <th>  Durbin-Watson:     </th> <td>   0.473</td>\n",
       "</tr>\n",
       "<tr>\n",
       "  <th>Prob(Omnibus):</th> <td> 0.004</td> <th>  Jarque-Bera (JB):  </th> <td>   8.130</td>\n",
       "</tr>\n",
       "<tr>\n",
       "  <th>Skew:</th>          <td>-0.234</td> <th>  Prob(JB):          </th> <td>  0.0172</td>\n",
       "</tr>\n",
       "<tr>\n",
       "  <th>Kurtosis:</th>      <td> 2.478</td> <th>  Cond. No.          </th> <td>    1.00</td>\n",
       "</tr>\n",
       "</table><br/><br/>Warnings:<br/>[1] Standard Errors assume that the covariance matrix of the errors is correctly specified."
      ],
      "text/plain": [
       "<class 'statsmodels.iolib.summary.Summary'>\n",
       "\"\"\"\n",
       "                                 OLS Regression Results                                \n",
       "=======================================================================================\n",
       "Dep. Variable:                    mpg   R-squared (uncentered):                   0.637\n",
       "Model:                            OLS   Adj. R-squared (uncentered):              0.636\n",
       "Method:                 Least Squares   F-statistic:                              695.7\n",
       "Date:                Mon, 18 Jan 2021   Prob (F-statistic):                    3.14e-89\n",
       "Time:                        16:51:13   Log-Likelihood:                         -1636.4\n",
       "No. Observations:                 397   AIC:                                      3275.\n",
       "Df Residuals:                     396   BIC:                                      3279.\n",
       "Df Model:                           1                                                  \n",
       "Covariance Type:            nonrobust                                                  \n",
       "==============================================================================\n",
       "                 coef    std err          t      P>|t|      [0.025      0.975]\n",
       "------------------------------------------------------------------------------\n",
       "horsepower     0.1788      0.007     26.377      0.000       0.166       0.192\n",
       "==============================================================================\n",
       "Omnibus:                       11.258   Durbin-Watson:                   0.473\n",
       "Prob(Omnibus):                  0.004   Jarque-Bera (JB):                8.130\n",
       "Skew:                          -0.234   Prob(JB):                       0.0172\n",
       "Kurtosis:                       2.478   Cond. No.                         1.00\n",
       "==============================================================================\n",
       "\n",
       "Warnings:\n",
       "[1] Standard Errors assume that the covariance matrix of the errors is correctly specified.\n",
       "\"\"\""
      ]
     },
     "execution_count": 57,
     "metadata": {},
     "output_type": "execute_result"
    }
   ],
   "source": [
    "X = df['horsepower']\n",
    "y = df['mpg']\n",
    "est = sm.OLS(y, X).fit()\n",
    "est.summary()\n",
    "#Lets try to get a better r square value"
   ]
  },
  {
   "cell_type": "code",
   "execution_count": 58,
   "metadata": {},
   "outputs": [
    {
     "data": {
      "text/html": [
       "<table class=\"simpletable\">\n",
       "<caption>OLS Regression Results</caption>\n",
       "<tr>\n",
       "  <th>Dep. Variable:</th>           <td>mpg</td>       <th>  R-squared (uncentered):</th>      <td>   0.873</td> \n",
       "</tr>\n",
       "<tr>\n",
       "  <th>Model:</th>                   <td>OLS</td>       <th>  Adj. R-squared (uncentered):</th> <td>   0.872</td> \n",
       "</tr>\n",
       "<tr>\n",
       "  <th>Method:</th>             <td>Least Squares</td>  <th>  F-statistic:       </th>          <td>   1354.</td> \n",
       "</tr>\n",
       "<tr>\n",
       "  <th>Date:</th>             <td>Mon, 18 Jan 2021</td> <th>  Prob (F-statistic):</th>          <td>1.61e-177</td>\n",
       "</tr>\n",
       "<tr>\n",
       "  <th>Time:</th>                 <td>16:51:14</td>     <th>  Log-Likelihood:    </th>          <td> -1428.6</td> \n",
       "</tr>\n",
       "<tr>\n",
       "  <th>No. Observations:</th>      <td>   397</td>      <th>  AIC:               </th>          <td>   2861.</td> \n",
       "</tr>\n",
       "<tr>\n",
       "  <th>Df Residuals:</th>          <td>   395</td>      <th>  BIC:               </th>          <td>   2869.</td> \n",
       "</tr>\n",
       "<tr>\n",
       "  <th>Df Model:</th>              <td>     2</td>      <th>                     </th>              <td> </td>    \n",
       "</tr>\n",
       "<tr>\n",
       "  <th>Covariance Type:</th>      <td>nonrobust</td>    <th>                     </th>              <td> </td>    \n",
       "</tr>\n",
       "</table>\n",
       "<table class=\"simpletable\">\n",
       "<tr>\n",
       "       <td></td>          <th>coef</th>     <th>std err</th>      <th>t</th>      <th>P>|t|</th>  <th>[0.025</th>    <th>0.975]</th>  \n",
       "</tr>\n",
       "<tr>\n",
       "  <th>horsepower2</th> <td>   -0.0024</td> <td> 8.79e-05</td> <td>  -27.027</td> <td> 0.000</td> <td>   -0.003</td> <td>   -0.002</td>\n",
       "</tr>\n",
       "<tr>\n",
       "  <th>horsepower</th>  <td>    0.4980</td> <td>    0.012</td> <td>   39.919</td> <td> 0.000</td> <td>    0.474</td> <td>    0.523</td>\n",
       "</tr>\n",
       "</table>\n",
       "<table class=\"simpletable\">\n",
       "<tr>\n",
       "  <th>Omnibus:</th>       <td>62.357</td> <th>  Durbin-Watson:     </th> <td>   0.918</td>\n",
       "</tr>\n",
       "<tr>\n",
       "  <th>Prob(Omnibus):</th> <td> 0.000</td> <th>  Jarque-Bera (JB):  </th> <td>  90.236</td>\n",
       "</tr>\n",
       "<tr>\n",
       "  <th>Skew:</th>          <td> 1.035</td> <th>  Prob(JB):          </th> <td>2.54e-20</td>\n",
       "</tr>\n",
       "<tr>\n",
       "  <th>Kurtosis:</th>      <td> 4.083</td> <th>  Cond. No.          </th> <td>    440.</td>\n",
       "</tr>\n",
       "</table><br/><br/>Warnings:<br/>[1] Standard Errors assume that the covariance matrix of the errors is correctly specified."
      ],
      "text/plain": [
       "<class 'statsmodels.iolib.summary.Summary'>\n",
       "\"\"\"\n",
       "                                 OLS Regression Results                                \n",
       "=======================================================================================\n",
       "Dep. Variable:                    mpg   R-squared (uncentered):                   0.873\n",
       "Model:                            OLS   Adj. R-squared (uncentered):              0.872\n",
       "Method:                 Least Squares   F-statistic:                              1354.\n",
       "Date:                Mon, 18 Jan 2021   Prob (F-statistic):                   1.61e-177\n",
       "Time:                        16:51:14   Log-Likelihood:                         -1428.6\n",
       "No. Observations:                 397   AIC:                                      2861.\n",
       "Df Residuals:                     395   BIC:                                      2869.\n",
       "Df Model:                           2                                                  \n",
       "Covariance Type:            nonrobust                                                  \n",
       "===============================================================================\n",
       "                  coef    std err          t      P>|t|      [0.025      0.975]\n",
       "-------------------------------------------------------------------------------\n",
       "horsepower2    -0.0024   8.79e-05    -27.027      0.000      -0.003      -0.002\n",
       "horsepower      0.4980      0.012     39.919      0.000       0.474       0.523\n",
       "==============================================================================\n",
       "Omnibus:                       62.357   Durbin-Watson:                   0.918\n",
       "Prob(Omnibus):                  0.000   Jarque-Bera (JB):               90.236\n",
       "Skew:                           1.035   Prob(JB):                     2.54e-20\n",
       "Kurtosis:                       4.083   Cond. No.                         440.\n",
       "==============================================================================\n",
       "\n",
       "Warnings:\n",
       "[1] Standard Errors assume that the covariance matrix of the errors is correctly specified.\n",
       "\"\"\""
      ]
     },
     "execution_count": 58,
     "metadata": {},
     "output_type": "execute_result"
    }
   ],
   "source": [
    "#Polynomial fit gives better r squared value\n",
    "df['horsepower2'] = df['horsepower'] ** 2\n",
    "X2 = df[['horsepower2', 'horsepower']]\n",
    "est = sm.OLS(y, X2).fit()\n",
    "est.summary()"
   ]
  },
  {
   "cell_type": "markdown",
   "metadata": {},
   "source": [
    "i) p-value < 0.05 inidcates a relationship between the dependent and independent variable\n",
    "ii) r-squared value of 0.873 indicates a pretty strong relationship between the variables."
   ]
  },
  {
   "cell_type": "code",
   "execution_count": 59,
   "metadata": {},
   "outputs": [
    {
     "data": {
      "text/plain": [
       "<matplotlib.axes._subplots.AxesSubplot at 0x2bc64d15280>"
      ]
     },
     "execution_count": 59,
     "metadata": {},
     "output_type": "execute_result"
    },
    {
     "data": {
      "image/png": "[encoded data removed]",
      "text/plain": [
       "<Figure size 432x288 with 1 Axes>"
      ]
     },
     "metadata": {
      "needs_background": "light"
     },
     "output_type": "display_data"
    }
   ],
   "source": [
    "sns.scatterplot(X, y)\n",
    "# iii) can be seen that it is a negative relationship (the higher the horsepower, the lower the mpg)"
   ]
  },
  {
   "cell_type": "code",
   "execution_count": 60,
   "metadata": {},
   "outputs": [
    {
     "name": "stdout",
     "output_type": "stream",
     "text": [
      "[48.80689643]\n",
      "                    0         1\n",
      "horsepower2 -0.002549 -0.002203\n",
      "horsepower   0.473502  0.522557\n"
     ]
    }
   ],
   "source": [
    "# iv)\n",
    "\n",
    "print(est.predict([0,98]))\n",
    "print(est.conf_int())"
   ]
  },
  {
   "cell_type": "code",
   "execution_count": 61,
   "metadata": {},
   "outputs": [
    {
     "data": {
      "text/plain": [
       "<matplotlib.axes._subplots.AxesSubplot at 0x2bc658312b0>"
      ]
     },
     "execution_count": 61,
     "metadata": {},
     "output_type": "execute_result"
    },
    {
     "data": {
      "image/png": "[encoded data removed]",
      "text/plain": [
       "<Figure size 432x288 with 1 Axes>"
      ]
     },
     "metadata": {
      "needs_background": "light"
     },
     "output_type": "display_data"
    }
   ],
   "source": [
    "# v) Make a regression plot the response and the predictor.\n",
    "\n",
    "sns.regplot(x=\"horsepower\", y=\"mpg\", data=df, order=2,\n",
    "            line_kws={\"color\": \"orange\"})"
   ]
  },
  {
   "cell_type": "markdown",
   "metadata": {},
   "source": [
    "# 4. Auto Multiple Regression\n",
    "\n",
    "Perform a multiple linear regression with `mpg` as the response and all other variables except name in `auto` as the predictors. Comment on the output:\n",
    "\n",
    "i. Is there a relationship between the predictors and the response?\n",
    "\n",
    "ii. Which predictors appear to have a statistically significant relationship to the response?\n",
    "\n",
    "iii. What does the coefficient for the year variable suggest?\n",
    "\n",
    "iv. Comment on any problems you see with the fit. Do the residual plots suggest any unusually large outliers?\n",
    "\n",
    "v. Is there heteroscedasticity in the fit?"
   ]
  },
  {
   "cell_type": "code",
   "execution_count": 40,
   "metadata": {},
   "outputs": [
    {
     "data": {
      "text/html": [
       "<table class=\"simpletable\">\n",
       "<caption>OLS Regression Results</caption>\n",
       "<tr>\n",
       "  <th>Dep. Variable:</th>           <td>mpg</td>       <th>  R-squared (uncentered):</th>      <td>   0.982</td>\n",
       "</tr>\n",
       "<tr>\n",
       "  <th>Model:</th>                   <td>OLS</td>       <th>  Adj. R-squared (uncentered):</th> <td>   0.981</td>\n",
       "</tr>\n",
       "<tr>\n",
       "  <th>Method:</th>             <td>Least Squares</td>  <th>  F-statistic:       </th>          <td>   2968.</td>\n",
       "</tr>\n",
       "<tr>\n",
       "  <th>Date:</th>             <td>Mon, 18 Jan 2021</td> <th>  Prob (F-statistic):</th>           <td>  0.00</td> \n",
       "</tr>\n",
       "<tr>\n",
       "  <th>Time:</th>                 <td>16:28:45</td>     <th>  Log-Likelihood:    </th>          <td> -1044.9</td>\n",
       "</tr>\n",
       "<tr>\n",
       "  <th>No. Observations:</th>      <td>   397</td>      <th>  AIC:               </th>          <td>   2104.</td>\n",
       "</tr>\n",
       "<tr>\n",
       "  <th>Df Residuals:</th>          <td>   390</td>      <th>  BIC:               </th>          <td>   2132.</td>\n",
       "</tr>\n",
       "<tr>\n",
       "  <th>Df Model:</th>              <td>     7</td>      <th>                     </th>              <td> </td>   \n",
       "</tr>\n",
       "<tr>\n",
       "  <th>Covariance Type:</th>      <td>nonrobust</td>    <th>                     </th>              <td> </td>   \n",
       "</tr>\n",
       "</table>\n",
       "<table class=\"simpletable\">\n",
       "<tr>\n",
       "        <td></td>          <th>coef</th>     <th>std err</th>      <th>t</th>      <th>P>|t|</th>  <th>[0.025</th>    <th>0.975]</th>  \n",
       "</tr>\n",
       "<tr>\n",
       "  <th>cylinders</th>    <td>   -0.6816</td> <td>    0.323</td> <td>   -2.108</td> <td> 0.036</td> <td>   -1.317</td> <td>   -0.046</td>\n",
       "</tr>\n",
       "<tr>\n",
       "  <th>displacement</th> <td>    0.0210</td> <td>    0.008</td> <td>    2.769</td> <td> 0.006</td> <td>    0.006</td> <td>    0.036</td>\n",
       "</tr>\n",
       "<tr>\n",
       "  <th>horsepower</th>   <td>   -0.0315</td> <td>    0.011</td> <td>   -2.963</td> <td> 0.003</td> <td>   -0.052</td> <td>   -0.011</td>\n",
       "</tr>\n",
       "<tr>\n",
       "  <th>weight</th>       <td>   -0.0063</td> <td>    0.001</td> <td>   -9.926</td> <td> 0.000</td> <td>   -0.008</td> <td>   -0.005</td>\n",
       "</tr>\n",
       "<tr>\n",
       "  <th>acceleration</th> <td>   -0.0485</td> <td>    0.086</td> <td>   -0.564</td> <td> 0.573</td> <td>   -0.218</td> <td>    0.121</td>\n",
       "</tr>\n",
       "<tr>\n",
       "  <th>year</th>         <td>    0.5768</td> <td>    0.023</td> <td>   24.815</td> <td> 0.000</td> <td>    0.531</td> <td>    0.622</td>\n",
       "</tr>\n",
       "<tr>\n",
       "  <th>origin</th>       <td>    1.2993</td> <td>    0.280</td> <td>    4.640</td> <td> 0.000</td> <td>    0.749</td> <td>    1.850</td>\n",
       "</tr>\n",
       "</table>\n",
       "<table class=\"simpletable\">\n",
       "<tr>\n",
       "  <th>Omnibus:</th>       <td>46.266</td> <th>  Durbin-Watson:     </th> <td>   1.273</td>\n",
       "</tr>\n",
       "<tr>\n",
       "  <th>Prob(Omnibus):</th> <td> 0.000</td> <th>  Jarque-Bera (JB):  </th> <td>  87.808</td>\n",
       "</tr>\n",
       "<tr>\n",
       "  <th>Skew:</th>          <td> 0.672</td> <th>  Prob(JB):          </th> <td>8.56e-20</td>\n",
       "</tr>\n",
       "<tr>\n",
       "  <th>Kurtosis:</th>      <td> 4.871</td> <th>  Cond. No.          </th> <td>5.99e+03</td>\n",
       "</tr>\n",
       "</table><br/><br/>Warnings:<br/>[1] Standard Errors assume that the covariance matrix of the errors is correctly specified.<br/>[2] The condition number is large, 5.99e+03. This might indicate that there are<br/>strong multicollinearity or other numerical problems."
      ],
      "text/plain": [
       "<class 'statsmodels.iolib.summary.Summary'>\n",
       "\"\"\"\n",
       "                                 OLS Regression Results                                \n",
       "=======================================================================================\n",
       "Dep. Variable:                    mpg   R-squared (uncentered):                   0.982\n",
       "Model:                            OLS   Adj. R-squared (uncentered):              0.981\n",
       "Method:                 Least Squares   F-statistic:                              2968.\n",
       "Date:                Mon, 18 Jan 2021   Prob (F-statistic):                        0.00\n",
       "Time:                        16:28:45   Log-Likelihood:                         -1044.9\n",
       "No. Observations:                 397   AIC:                                      2104.\n",
       "Df Residuals:                     390   BIC:                                      2132.\n",
       "Df Model:                           7                                                  \n",
       "Covariance Type:            nonrobust                                                  \n",
       "================================================================================\n",
       "                   coef    std err          t      P>|t|      [0.025      0.975]\n",
       "--------------------------------------------------------------------------------\n",
       "cylinders       -0.6816      0.323     -2.108      0.036      -1.317      -0.046\n",
       "displacement     0.0210      0.008      2.769      0.006       0.006       0.036\n",
       "horsepower      -0.0315      0.011     -2.963      0.003      -0.052      -0.011\n",
       "weight          -0.0063      0.001     -9.926      0.000      -0.008      -0.005\n",
       "acceleration    -0.0485      0.086     -0.564      0.573      -0.218       0.121\n",
       "year             0.5768      0.023     24.815      0.000       0.531       0.622\n",
       "origin           1.2993      0.280      4.640      0.000       0.749       1.850\n",
       "==============================================================================\n",
       "Omnibus:                       46.266   Durbin-Watson:                   1.273\n",
       "Prob(Omnibus):                  0.000   Jarque-Bera (JB):               87.808\n",
       "Skew:                           0.672   Prob(JB):                     8.56e-20\n",
       "Kurtosis:                       4.871   Cond. No.                     5.99e+03\n",
       "==============================================================================\n",
       "\n",
       "Warnings:\n",
       "[1] Standard Errors assume that the covariance matrix of the errors is correctly specified.\n",
       "[2] The condition number is large, 5.99e+03. This might indicate that there are\n",
       "strong multicollinearity or other numerical problems.\n",
       "\"\"\""
      ]
     },
     "execution_count": 40,
     "metadata": {},
     "output_type": "execute_result"
    }
   ],
   "source": [
    "df = pd.read_csv('data/auto.csv', delim_whitespace=True)\n",
    "df = df.drop(df.index[0]) #remove first row that has NaNs only\n",
    "df['horsepower'] = df['horsepower'].replace(\"?\", 0).astype(\"float\")\n",
    "df['mpg'] = df['mpg'].astype(\"float\")\n",
    "\n",
    "X = df.drop(columns=['mpg', 'name'])\n",
    "y = df['mpg']\n",
    "est = sm.OLS(y, X).fit()\n",
    "est.summary()"
   ]
  },
  {
   "cell_type": "markdown",
   "metadata": {},
   "source": [
    "i) Prob F statistic is the goodness-of-fit test, which tests the hypothesis that none of those variables have a relationship with the response variable. For this situation the prob F stat < 0.05 so it suggests a relationship between the response and predictors\n",
    "\n",
    "ii) Aside from acceleration which as a p-value > 0.05, all X variables have p-value < 0.05 so they are statistically signinficant.\n",
    "\n",
    "iii) it suggests that mpg goes up by 0.5768 every year"
   ]
  },
  {
   "cell_type": "code",
   "execution_count": 21,
   "metadata": {},
   "outputs": [
    {
     "data": {
      "text/plain": [
       "<matplotlib.axes._subplots.AxesSubplot at 0x2bc638b0640>"
      ]
     },
     "execution_count": 21,
     "metadata": {},
     "output_type": "execute_result"
    },
    {
     "data": {
      "image/png": "[encoded data removed]",
      "text/plain": [
       "<Figure size 432x288 with 1 Axes>"
      ]
     },
     "metadata": {
      "needs_background": "light"
     },
     "output_type": "display_data"
    }
   ],
   "source": [
    "# iv) Can see some outliers but nothing too unusual\n",
    "est.resid.hist(bins=100)"
   ]
  },
  {
   "cell_type": "code",
   "execution_count": 45,
   "metadata": {},
   "outputs": [
    {
     "name": "stdout",
     "output_type": "stream",
     "text": [
      "{'LM Statistic': 102.57795110713982, 'LM-Test p-value': 7.268252692590128e-20, 'F-Statistic': 19.41110490012561, 'F-Test p-value': 2.785363293228201e-22}\n"
     ]
    }
   ],
   "source": [
    "# v) Is there heteroscedasticity in the fit?\n",
    "#https://www.statsmodels.org/stable/generated/statsmodels.stats.diagnostic.het_breuschpagan.html#statsmodels.stats.diagnostic.het_breuschpagan\n",
    "from statsmodels.stats.diagnostic import het_breuschpagan\n",
    "HBP_test = het_breuschpagan(est.resid, X)\n",
    "\n",
    "labels = ['LM Statistic', 'LM-Test p-value', 'F-Statistic', 'F-Test p-value'] # labelling the output numbers\n",
    "print(dict(zip(labels, HBP_test)))\n",
    "\n",
    "#Heteroskedasticity is indicated if p < 0.05, so according to these tests, this model is NOT heteroskedastic."
   ]
  },
  {
   "cell_type": "markdown",
   "metadata": {},
   "source": [
    "# 5. Car Seats\n",
    "\n",
    "This question should be answered using the Carseats data set\n",
    "\n",
    "1. Fit a multiple regression model to predict Sales using Price, Urban, and US.\n",
    "\n",
    "2. Provide an interpretation of each coefficient in the model. Be careful—some of the variables in the model are qualitative!\n",
    "\n",
    "3. For which of the predictors can you reject the null hypothesis H0 : βj = 0?\n",
    "\n",
    "4. On the basis of your response to the previous question, fit a smaller model that only uses the predictors for which there is evidence of association with the outcome.\n",
    "\n",
    "5. How well do the models in 1 and 4 fit the data? Explain which statistics show the difference.\n",
    "\n",
    "6. Using the model from (e), obtain 95 % confidence intervals for the coefficient(s)."
   ]
  },
  {
   "cell_type": "code",
   "execution_count": 54,
   "metadata": {},
   "outputs": [],
   "source": [
    "df = pd.read_csv('data/carseats.csv')\n",
    "df['Urban'] = df['Urban'].replace(\"Yes\", 1).replace(\"No\", 0)\n",
    "df['US'] = df['US'].replace(\"Yes\", 1).replace(\"No\", 0)"
   ]
  },
  {
   "cell_type": "code",
   "execution_count": 51,
   "metadata": {},
   "outputs": [
    {
     "data": {
      "text/html": [
       "<table class=\"simpletable\">\n",
       "<caption>OLS Regression Results</caption>\n",
       "<tr>\n",
       "  <th>Dep. Variable:</th>          <td>Sales</td>      <th>  R-squared (uncentered):</th>      <td>   0.810</td> \n",
       "</tr>\n",
       "<tr>\n",
       "  <th>Model:</th>                   <td>OLS</td>       <th>  Adj. R-squared (uncentered):</th> <td>   0.809</td> \n",
       "</tr>\n",
       "<tr>\n",
       "  <th>Method:</th>             <td>Least Squares</td>  <th>  F-statistic:       </th>          <td>   564.2</td> \n",
       "</tr>\n",
       "<tr>\n",
       "  <th>Date:</th>             <td>Mon, 18 Jan 2021</td> <th>  Prob (F-statistic):</th>          <td>9.52e-143</td>\n",
       "</tr>\n",
       "<tr>\n",
       "  <th>Time:</th>                 <td>16:45:47</td>     <th>  Log-Likelihood:    </th>          <td> -1067.7</td> \n",
       "</tr>\n",
       "<tr>\n",
       "  <th>No. Observations:</th>      <td>   400</td>      <th>  AIC:               </th>          <td>   2141.</td> \n",
       "</tr>\n",
       "<tr>\n",
       "  <th>Df Residuals:</th>          <td>   397</td>      <th>  BIC:               </th>          <td>   2153.</td> \n",
       "</tr>\n",
       "<tr>\n",
       "  <th>Df Model:</th>              <td>     3</td>      <th>                     </th>              <td> </td>    \n",
       "</tr>\n",
       "<tr>\n",
       "  <th>Covariance Type:</th>      <td>nonrobust</td>    <th>                     </th>              <td> </td>    \n",
       "</tr>\n",
       "</table>\n",
       "<table class=\"simpletable\">\n",
       "<tr>\n",
       "    <td></td>       <th>coef</th>     <th>std err</th>      <th>t</th>      <th>P>|t|</th>  <th>[0.025</th>    <th>0.975]</th>  \n",
       "</tr>\n",
       "<tr>\n",
       "  <th>Price</th> <td>    0.0406</td> <td>    0.003</td> <td>   12.841</td> <td> 0.000</td> <td>    0.034</td> <td>    0.047</td>\n",
       "</tr>\n",
       "<tr>\n",
       "  <th>Urban</th> <td>    1.2917</td> <td>    0.374</td> <td>    3.457</td> <td> 0.001</td> <td>    0.557</td> <td>    2.026</td>\n",
       "</tr>\n",
       "<tr>\n",
       "  <th>US</th>    <td>    2.1948</td> <td>    0.360</td> <td>    6.091</td> <td> 0.000</td> <td>    1.486</td> <td>    2.903</td>\n",
       "</tr>\n",
       "</table>\n",
       "<table class=\"simpletable\">\n",
       "<tr>\n",
       "  <th>Omnibus:</th>       <td> 1.426</td> <th>  Durbin-Watson:     </th> <td>   1.875</td>\n",
       "</tr>\n",
       "<tr>\n",
       "  <th>Prob(Omnibus):</th> <td> 0.490</td> <th>  Jarque-Bera (JB):  </th> <td>   1.214</td>\n",
       "</tr>\n",
       "<tr>\n",
       "  <th>Skew:</th>          <td> 0.121</td> <th>  Prob(JB):          </th> <td>   0.545</td>\n",
       "</tr>\n",
       "<tr>\n",
       "  <th>Kurtosis:</th>      <td> 3.120</td> <th>  Cond. No.          </th> <td>    260.</td>\n",
       "</tr>\n",
       "</table><br/><br/>Warnings:<br/>[1] Standard Errors assume that the covariance matrix of the errors is correctly specified."
      ],
      "text/plain": [
       "<class 'statsmodels.iolib.summary.Summary'>\n",
       "\"\"\"\n",
       "                                 OLS Regression Results                                \n",
       "=======================================================================================\n",
       "Dep. Variable:                  Sales   R-squared (uncentered):                   0.810\n",
       "Model:                            OLS   Adj. R-squared (uncentered):              0.809\n",
       "Method:                 Least Squares   F-statistic:                              564.2\n",
       "Date:                Mon, 18 Jan 2021   Prob (F-statistic):                   9.52e-143\n",
       "Time:                        16:45:47   Log-Likelihood:                         -1067.7\n",
       "No. Observations:                 400   AIC:                                      2141.\n",
       "Df Residuals:                     397   BIC:                                      2153.\n",
       "Df Model:                           3                                                  \n",
       "Covariance Type:            nonrobust                                                  \n",
       "==============================================================================\n",
       "                 coef    std err          t      P>|t|      [0.025      0.975]\n",
       "------------------------------------------------------------------------------\n",
       "Price          0.0406      0.003     12.841      0.000       0.034       0.047\n",
       "Urban          1.2917      0.374      3.457      0.001       0.557       2.026\n",
       "US             2.1948      0.360      6.091      0.000       1.486       2.903\n",
       "==============================================================================\n",
       "Omnibus:                        1.426   Durbin-Watson:                   1.875\n",
       "Prob(Omnibus):                  0.490   Jarque-Bera (JB):                1.214\n",
       "Skew:                           0.121   Prob(JB):                        0.545\n",
       "Kurtosis:                       3.120   Cond. No.                         260.\n",
       "==============================================================================\n",
       "\n",
       "Warnings:\n",
       "[1] Standard Errors assume that the covariance matrix of the errors is correctly specified.\n",
       "\"\"\""
      ]
     },
     "execution_count": 51,
     "metadata": {},
     "output_type": "execute_result"
    }
   ],
   "source": [
    "# 1) \n",
    "\n",
    "X = df[['Price', 'Urban', 'US']]\n",
    "y = df['Sales']\n",
    "est = sm.OLS(y, X).fit()\n",
    "est.summary()"
   ]
  },
  {
   "cell_type": "markdown",
   "metadata": {},
   "source": [
    "**2) Provide an interpretation of each coefficient in the model. Be careful—some of the variables in the model are qualitative!**\n",
    "\n",
    "Price - goes up by 0.0406 every time Sales go up by 1\n",
    "Urban - sales are 1.2917 more in urban areas\n",
    "US - Sales are 2.1948 more when in the US"
   ]
  },
  {
   "cell_type": "markdown",
   "metadata": {},
   "source": [
    "**3) For which of the predictors can you reject the null hypothesis H0 : βj = 0?**\n",
    "\n",
    "- All three of Price, Urban and US have p-values < 0.05 so the null hypothesis cannot be rejected for any of the predictors"
   ]
  },
  {
   "cell_type": "code",
   "execution_count": 52,
   "metadata": {},
   "outputs": [
    {
     "data": {
      "text/html": [
       "<table class=\"simpletable\">\n",
       "<caption>OLS Regression Results</caption>\n",
       "<tr>\n",
       "  <th>Dep. Variable:</th>          <td>Sales</td>      <th>  R-squared (uncentered):</th>      <td>   0.957</td> \n",
       "</tr>\n",
       "<tr>\n",
       "  <th>Model:</th>                   <td>OLS</td>       <th>  Adj. R-squared (uncentered):</th> <td>   0.955</td> \n",
       "</tr>\n",
       "<tr>\n",
       "  <th>Method:</th>             <td>Least Squares</td>  <th>  F-statistic:       </th>          <td>   857.6</td> \n",
       "</tr>\n",
       "<tr>\n",
       "  <th>Date:</th>             <td>Mon, 18 Jan 2021</td> <th>  Prob (F-statistic):</th>          <td>1.69e-258</td>\n",
       "</tr>\n",
       "<tr>\n",
       "  <th>Time:</th>                 <td>16:45:49</td>     <th>  Log-Likelihood:    </th>          <td> -772.81</td> \n",
       "</tr>\n",
       "<tr>\n",
       "  <th>No. Observations:</th>      <td>   400</td>      <th>  AIC:               </th>          <td>   1566.</td> \n",
       "</tr>\n",
       "<tr>\n",
       "  <th>Df Residuals:</th>          <td>   390</td>      <th>  BIC:               </th>          <td>   1606.</td> \n",
       "</tr>\n",
       "<tr>\n",
       "  <th>Df Model:</th>              <td>    10</td>      <th>                     </th>              <td> </td>    \n",
       "</tr>\n",
       "<tr>\n",
       "  <th>Covariance Type:</th>      <td>nonrobust</td>    <th>                     </th>              <td> </td>    \n",
       "</tr>\n",
       "</table>\n",
       "<table class=\"simpletable\">\n",
       "<tr>\n",
       "       <td></td>          <th>coef</th>     <th>std err</th>      <th>t</th>      <th>P>|t|</th>  <th>[0.025</th>    <th>0.975]</th>  \n",
       "</tr>\n",
       "<tr>\n",
       "  <th>CompPrice</th>   <td>    0.1277</td> <td>    0.005</td> <td>   23.263</td> <td> 0.000</td> <td>    0.117</td> <td>    0.139</td>\n",
       "</tr>\n",
       "<tr>\n",
       "  <th>Income</th>      <td>    0.0234</td> <td>    0.003</td> <td>    7.955</td> <td> 0.000</td> <td>    0.018</td> <td>    0.029</td>\n",
       "</tr>\n",
       "<tr>\n",
       "  <th>Advertising</th> <td>    0.1108</td> <td>    0.018</td> <td>    6.008</td> <td> 0.000</td> <td>    0.075</td> <td>    0.147</td>\n",
       "</tr>\n",
       "<tr>\n",
       "  <th>Population</th>  <td>    0.0018</td> <td>    0.001</td> <td>    3.136</td> <td> 0.002</td> <td>    0.001</td> <td>    0.003</td>\n",
       "</tr>\n",
       "<tr>\n",
       "  <th>Price</th>       <td>   -0.0931</td> <td>    0.004</td> <td>  -20.997</td> <td> 0.000</td> <td>   -0.102</td> <td>   -0.084</td>\n",
       "</tr>\n",
       "<tr>\n",
       "  <th>ShelveLoc</th>   <td>   -2.6952</td> <td>    0.200</td> <td>  -13.465</td> <td> 0.000</td> <td>   -3.089</td> <td>   -2.302</td>\n",
       "</tr>\n",
       "<tr>\n",
       "  <th>Age</th>         <td>   -0.0321</td> <td>    0.005</td> <td>   -6.525</td> <td> 0.000</td> <td>   -0.042</td> <td>   -0.022</td>\n",
       "</tr>\n",
       "<tr>\n",
       "  <th>Education</th>   <td>    0.1057</td> <td>    0.029</td> <td>    3.695</td> <td> 0.000</td> <td>    0.049</td> <td>    0.162</td>\n",
       "</tr>\n",
       "<tr>\n",
       "  <th>Urban</th>       <td>    0.2073</td> <td>    0.187</td> <td>    1.109</td> <td> 0.268</td> <td>   -0.160</td> <td>    0.575</td>\n",
       "</tr>\n",
       "<tr>\n",
       "  <th>US</th>          <td>    0.2521</td> <td>    0.247</td> <td>    1.021</td> <td> 0.308</td> <td>   -0.233</td> <td>    0.738</td>\n",
       "</tr>\n",
       "</table>\n",
       "<table class=\"simpletable\">\n",
       "<tr>\n",
       "  <th>Omnibus:</th>       <td> 9.735</td> <th>  Durbin-Watson:     </th> <td>   2.051</td>\n",
       "</tr>\n",
       "<tr>\n",
       "  <th>Prob(Omnibus):</th> <td> 0.008</td> <th>  Jarque-Bera (JB):  </th> <td>   8.880</td>\n",
       "</tr>\n",
       "<tr>\n",
       "  <th>Skew:</th>          <td> 0.307</td> <th>  Prob(JB):          </th> <td>  0.0118</td>\n",
       "</tr>\n",
       "<tr>\n",
       "  <th>Kurtosis:</th>      <td> 2.605</td> <th>  Cond. No.          </th> <td>1.02e+03</td>\n",
       "</tr>\n",
       "</table><br/><br/>Warnings:<br/>[1] Standard Errors assume that the covariance matrix of the errors is correctly specified.<br/>[2] The condition number is large, 1.02e+03. This might indicate that there are<br/>strong multicollinearity or other numerical problems."
      ],
      "text/plain": [
       "<class 'statsmodels.iolib.summary.Summary'>\n",
       "\"\"\"\n",
       "                                 OLS Regression Results                                \n",
       "=======================================================================================\n",
       "Dep. Variable:                  Sales   R-squared (uncentered):                   0.957\n",
       "Model:                            OLS   Adj. R-squared (uncentered):              0.955\n",
       "Method:                 Least Squares   F-statistic:                              857.6\n",
       "Date:                Mon, 18 Jan 2021   Prob (F-statistic):                   1.69e-258\n",
       "Time:                        16:45:49   Log-Likelihood:                         -772.81\n",
       "No. Observations:                 400   AIC:                                      1566.\n",
       "Df Residuals:                     390   BIC:                                      1606.\n",
       "Df Model:                          10                                                  \n",
       "Covariance Type:            nonrobust                                                  \n",
       "===============================================================================\n",
       "                  coef    std err          t      P>|t|      [0.025      0.975]\n",
       "-------------------------------------------------------------------------------\n",
       "CompPrice       0.1277      0.005     23.263      0.000       0.117       0.139\n",
       "Income          0.0234      0.003      7.955      0.000       0.018       0.029\n",
       "Advertising     0.1108      0.018      6.008      0.000       0.075       0.147\n",
       "Population      0.0018      0.001      3.136      0.002       0.001       0.003\n",
       "Price          -0.0931      0.004    -20.997      0.000      -0.102      -0.084\n",
       "ShelveLoc      -2.6952      0.200    -13.465      0.000      -3.089      -2.302\n",
       "Age            -0.0321      0.005     -6.525      0.000      -0.042      -0.022\n",
       "Education       0.1057      0.029      3.695      0.000       0.049       0.162\n",
       "Urban           0.2073      0.187      1.109      0.268      -0.160       0.575\n",
       "US              0.2521      0.247      1.021      0.308      -0.233       0.738\n",
       "==============================================================================\n",
       "Omnibus:                        9.735   Durbin-Watson:                   2.051\n",
       "Prob(Omnibus):                  0.008   Jarque-Bera (JB):                8.880\n",
       "Skew:                           0.307   Prob(JB):                       0.0118\n",
       "Kurtosis:                       2.605   Cond. No.                     1.02e+03\n",
       "==============================================================================\n",
       "\n",
       "Warnings:\n",
       "[1] Standard Errors assume that the covariance matrix of the errors is correctly specified.\n",
       "[2] The condition number is large, 1.02e+03. This might indicate that there are\n",
       "strong multicollinearity or other numerical problems.\n",
       "\"\"\""
      ]
     },
     "execution_count": 52,
     "metadata": {},
     "output_type": "execute_result"
    }
   ],
   "source": [
    "#4)\n",
    "\n",
    "df['ShelveLoc'] = df['ShelveLoc'].replace(\"Bad\", 1).replace(\"Good\", 0).replace(\"Medium\", 0)\n",
    "\n",
    "X = df.drop(columns=['Sales'])\n",
    "y = df['Sales']\n",
    "est = sm.OLS(y, X).fit()\n",
    "est.summary()"
   ]
  },
  {
   "cell_type": "markdown",
   "metadata": {},
   "source": [
    "I know the question is asking for a smaller model however using the whole dataset gives a better r-squared value and prob f-stat for Sales. So I went with that that approach. Compared to the model from 1, this one has better r-squared value and f-stat with lower AIC and BIC"
   ]
  },
  {
   "cell_type": "markdown",
   "metadata": {},
   "source": [
    "**5) How well do the models in 1 and 4 fit the data? Explain which statistics show the difference.**\n",
    "\n",
    "- The model from #4 fits the data better as can be seen by more preferable r-squared and f-stat values. The AIC and BIC is also lower for the model from #4. That being said, the model from #1 still has good r-squared and f-stat values."
   ]
  },
  {
   "cell_type": "code",
   "execution_count": 53,
   "metadata": {},
   "outputs": [
    {
     "data": {
      "text/html": [
       "<div>\n",
       "<style scoped>\n",
       "    .dataframe tbody tr th:only-of-type {\n",
       "        vertical-align: middle;\n",
       "    }\n",
       "\n",
       "    .dataframe tbody tr th {\n",
       "        vertical-align: top;\n",
       "    }\n",
       "\n",
       "    .dataframe thead th {\n",
       "        text-align: right;\n",
       "    }\n",
       "</style>\n",
       "<table border=\"1\" class=\"dataframe\">\n",
       "  <thead>\n",
       "    <tr style=\"text-align: right;\">\n",
       "      <th></th>\n",
       "      <th>0</th>\n",
       "      <th>1</th>\n",
       "    </tr>\n",
       "  </thead>\n",
       "  <tbody>\n",
       "    <tr>\n",
       "      <th>CompPrice</th>\n",
       "      <td>0.116936</td>\n",
       "      <td>0.138527</td>\n",
       "    </tr>\n",
       "    <tr>\n",
       "      <th>Income</th>\n",
       "      <td>0.017581</td>\n",
       "      <td>0.029123</td>\n",
       "    </tr>\n",
       "    <tr>\n",
       "      <th>Advertising</th>\n",
       "      <td>0.074542</td>\n",
       "      <td>0.147052</td>\n",
       "    </tr>\n",
       "    <tr>\n",
       "      <th>Population</th>\n",
       "      <td>0.000689</td>\n",
       "      <td>0.003003</td>\n",
       "    </tr>\n",
       "    <tr>\n",
       "      <th>Price</th>\n",
       "      <td>-0.101782</td>\n",
       "      <td>-0.084354</td>\n",
       "    </tr>\n",
       "    <tr>\n",
       "      <th>ShelveLoc</th>\n",
       "      <td>-3.088705</td>\n",
       "      <td>-2.301647</td>\n",
       "    </tr>\n",
       "    <tr>\n",
       "      <th>Age</th>\n",
       "      <td>-0.041735</td>\n",
       "      <td>-0.022408</td>\n",
       "    </tr>\n",
       "    <tr>\n",
       "      <th>Education</th>\n",
       "      <td>0.049469</td>\n",
       "      <td>0.161971</td>\n",
       "    </tr>\n",
       "    <tr>\n",
       "      <th>Urban</th>\n",
       "      <td>-0.160127</td>\n",
       "      <td>0.574686</td>\n",
       "    </tr>\n",
       "    <tr>\n",
       "      <th>US</th>\n",
       "      <td>-0.233397</td>\n",
       "      <td>0.737690</td>\n",
       "    </tr>\n",
       "  </tbody>\n",
       "</table>\n",
       "</div>"
      ],
      "text/plain": [
       "                    0         1\n",
       "CompPrice    0.116936  0.138527\n",
       "Income       0.017581  0.029123\n",
       "Advertising  0.074542  0.147052\n",
       "Population   0.000689  0.003003\n",
       "Price       -0.101782 -0.084354\n",
       "ShelveLoc   -3.088705 -2.301647\n",
       "Age         -0.041735 -0.022408\n",
       "Education    0.049469  0.161971\n",
       "Urban       -0.160127  0.574686\n",
       "US          -0.233397  0.737690"
      ]
     },
     "execution_count": 53,
     "metadata": {},
     "output_type": "execute_result"
    }
   ],
   "source": [
    "# 6) Using the model from (e), obtain 95 % confidence intervals for the coefficient(s).\n",
    "\n",
    "est.conf_int()"
   ]
  }
 ],
 "metadata": {
  "file_extension": ".py",
  "kernelspec": {
   "display_name": "Python 3",
   "language": "python",
   "name": "python3"
  },
  "language_info": {
   "codemirror_mode": {
    "name": "ipython",
    "version": 3
   },
   "file_extension": ".py",
   "mimetype": "text/x-python",
   "name": "python",
   "nbconvert_exporter": "python",
   "pygments_lexer": "ipython3",
   "version": "3.8.3"
  },
  "mimetype": "text/x-python",
  "name": "python",
  "npconvert_exporter": "python",
  "pygments_lexer": "ipython3",
  "version": 3
 },
 "nbformat": 4,
 "nbformat_minor": 2
}
